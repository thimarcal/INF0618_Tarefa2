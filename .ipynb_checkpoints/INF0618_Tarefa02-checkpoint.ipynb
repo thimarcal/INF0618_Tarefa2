{
 "cells": [
  {
   "cell_type": "markdown",
   "metadata": {},
   "source": [
    "# Alunos: \n",
    "***Rafael Fernando Ribeiro*** \n",
    "\n",
    "***Thiago Gomes Marçal Pereira***"
   ]
  },
  {
   "cell_type": "markdown",
   "metadata": {},
   "source": [
    "# Tarefa 02\n",
    "Nesta tarefa vocês irão projetar duas arquiteturas de CNN utilizando os conceitos, camadas e técnicas vistas no curso. As redes serão treinadas no dataset CIFAR-10 e depois comparadas. As tarefas são:\n",
    "\n",
    "**1) Definir as arquiteturas; ----> 0.3 pontos** \n",
    "\n",
    "- Quantas [camadas](https://keras.io/layers/core/) ela terá?\n",
    "- Quais as operações utilizadas (convoluções, pooling, fully-connected)?\n",
    "- Quais serão os parâmetros de cada camada (número e tamanho dos filtros convolucionais, stride, tamanho do pooling, funções de ativação)?\n",
    "- Que tipo de [inicialização](https://keras.io/initializers/) de pesos você utilizará?\n",
    "- Haverá dropout? Qual a taxa de dropout? \n",
    "- Haverá [regularização](https://keras.io/regularizers/)? Qual a taxa do regularizador?\n",
    "\n",
    "**2) Definir como será o treino; ----> 0.25 pontos**\n",
    "- Número de épocas e tamanho do batch (deixe igual p/ as duas redes);\n",
    "- [Otimizador](https://keras.io/optimizers/);\n",
    "- [Função de custo](https://keras.io/losses/);\n",
    "\n",
    "**3) Classificar o conjunto de teste e comparar os resultados; ----> 0.25 pontos**\n",
    "- Classificar imagens de teste;\n",
    "- Comparar acurácias;\n",
    "- Plotar loss pelo número de épocas no conjunto de treinamento e validação de cada rede. \n",
    "    \n",
    "**4) Escrever um parágrafo com as suas conclusões; ----> 0.2 pontos**\n",
    "\n",
    "-----\n",
    "\n",
    "## CIFAR-10\n",
    "Este conjunto de dados é composto de 60000 imagens coloridas de dimensões 32x32, divididas em 10 classes (com 6000 imagens por classe), sendo 50000 para treinamento e 10000 para teste. As classes do CIFAR-10 são **aviões, automóveis, pássaros, gatos, alces, cachorros, sapos, cavalos, navios, caminhões.**\n",
    "\n",
    "O código abaixo carrega e transforma os dados de entrada para ficarem prontos para serem treinados/classificados pela sua rede. Os conjuntos de treino, validação e teste estão balanceados, portanto a acurácia já estará normalizada nos métodos do Keras.  "
   ]
  },
  {
   "cell_type": "code",
   "execution_count": 1,
   "metadata": {},
   "outputs": [
    {
     "name": "stderr",
     "output_type": "stream",
     "text": [
      "Using TensorFlow backend.\n"
     ]
    },
    {
     "name": "stdout",
     "output_type": "stream",
     "text": [
      "Training matrix shape (40000, 32, 32, 3)\n",
      "Validation matrix shape (10000, 32, 32, 3)\n",
      "Testing matrix shape (10000, 32, 32, 3)\n"
     ]
    }
   ],
   "source": [
    "#Imports\n",
    "import os\n",
    "import numpy as np\n",
    "from random import seed\n",
    "seed(42)\n",
    "\n",
    "import matplotlib.pyplot as plt\n",
    "plt.rcParams['figure.figsize'] = (15,15) # Make the figures a bit bigger\n",
    "\n",
    "from keras.datasets import cifar10\n",
    "from keras.utils import np_utils\n",
    "#from sklearn.cross_validation import StratifiedShuffleSplit\n",
    "from sklearn.model_selection import StratifiedShuffleSplit\n",
    "\n",
    "\n",
    "#Load data\n",
    "(trainVal_data, trainVal_label), (X_test, y_test) = cifar10.load_data()\n",
    "\n",
    "# Caso alguem tenha problemas com o StratifiedShuffleSplit, tente descomentar essa versao\n",
    "#Split trainVal data into train and val sets (already balanced)\n",
    "# splitIdx = StratifiedShuffleSplit(trainVal_label, 1, test_size=10000, random_state=0)\n",
    "# for train_index, val_index in splitIdx:\n",
    "#     X_train, X_val = trainVal_data[train_index], trainVal_data[val_index]\n",
    "#     y_train, y_val = trainVal_label[train_index], trainVal_label[val_index]\n",
    "    \n",
    "\n",
    "splitIdx = StratifiedShuffleSplit(1, test_size=10000, random_state=0)\n",
    "for train_index, val_index in splitIdx.split(trainVal_data, trainVal_label):\n",
    "    X_train, X_val = trainVal_data[train_index], trainVal_data[val_index]\n",
    "    y_train, y_val = trainVal_label[train_index], trainVal_label[val_index]\n",
    "\n",
    "    \n",
    "#Transform data\n",
    "X_train = X_train.reshape(X_train.shape[0], 32, 32, 3)\n",
    "X_val = X_val.reshape(X_val.shape[0], 32, 32, 3)\n",
    "X_test = X_test.reshape(X_test.shape[0], 32, 32, 3)\n",
    "\n",
    "X_train = X_train.astype('float32')\n",
    "X_val = X_val.astype('float32')\n",
    "X_test = X_test.astype('float32')\n",
    "\n",
    "X_train /= 255\n",
    "X_val /= 255\n",
    "X_test /= 255\n",
    "\n",
    "print(\"Training matrix shape\", X_train.shape)\n",
    "print(\"Validation matrix shape\", X_val.shape)\n",
    "print(\"Testing matrix shape\", X_test.shape)\n",
    "\n",
    "Y_train = np_utils.to_categorical(y_train, 10)\n",
    "Y_val = np_utils.to_categorical(y_val, 10)\n",
    "Y_test = np_utils.to_categorical(y_test, 10)"
   ]
  },
  {
   "cell_type": "code",
   "execution_count": 2,
   "metadata": {},
   "outputs": [
    {
     "name": "stdout",
     "output_type": "stream",
     "text": [
      "Train --->  {0: 4000, 1: 4000, 2: 4000, 3: 4000, 4: 4000, 5: 4000, 6: 4000, 7: 4000, 8: 4000, 9: 4000} \n",
      "\n"
     ]
    }
   ],
   "source": [
    "unique, counts = np.unique(y_train, return_counts=True)\n",
    "print(\"Train ---> \", dict(zip(unique, counts)), \"\\n\")\n",
    "\n",
    "from sklearn.utils.class_weight import compute_class_weight\n",
    "class_weights = compute_class_weight('balanced', np.unique(y_train), y_train.flatten())\n",
    "train_class_weights = dict(enumerate(class_weights))"
   ]
  },
  {
   "cell_type": "markdown",
   "metadata": {},
   "source": [
    "--------\n",
    "--------\n",
    "--------\n",
    "**A tarefa de vocês começa aqui!!!**"
   ]
  },
  {
   "cell_type": "markdown",
   "metadata": {},
   "source": [
    "# Definir as duas arquiteturas - [0.3 pontos]\n",
    "***Não se esqueçam de***:\n",
    "    - Importar as camadas utilizadas e o tipo do modelo (Sequential);\n",
    "    - Passar o input_shape na primeira camada da rede;\n",
    "    - Utilizar ativação `softmax` na última camada densa da rede;"
   ]
  },
  {
   "cell_type": "code",
   "execution_count": 3,
   "metadata": {},
   "outputs": [],
   "source": [
    "#Imports\n",
    "from keras.models import Sequential\n",
    "from keras.layers.core import Dense, Dropout, Flatten\n",
    "from keras.layers import Conv2D, MaxPooling2D\n",
    "from keras import optimizers # other stuff needed ... \n",
    "from keras.callbacks import EarlyStopping\n",
    "from keras.preprocessing.image import ImageDataGenerator\n",
    "\n",
    "nb_classes = 10\n",
    "nb_epochs = 100\n"
   ]
  },
  {
   "cell_type": "markdown",
   "metadata": {},
   "source": [
    "For model 1, we'll define a simple model with:\n",
    "- 1 Convolutional Layer with 20 filters 5x5\n",
    "- 1 Pooling Layer\n",
    "- 1 Flatten Layer\n",
    "- 1 Dropout Layer (0.25)\n",
    "- 1 Fully Connected Layer with 10 categories (Output)"
   ]
  },
  {
   "cell_type": "code",
   "execution_count": 4,
   "metadata": {},
   "outputs": [],
   "source": [
    "# Define 1st architecture\n",
    "modelOne = Sequential()\n",
    "# Add the Convolution Layer with 5x5 Kernel and 20 filters\n",
    "modelOne.add(Conv2D(20, \n",
    "                 kernel_size=(5,5),\n",
    "                 activation='relu',\n",
    "                 input_shape=(32,32,3)))\n",
    "\n",
    "# Add pooling layer with kernel 3x3\n",
    "modelOne.add(MaxPooling2D(pool_size=(3, 3)))\n",
    "\n",
    "# Flatten\n",
    "modelOne.add(Flatten())\n",
    "\n",
    "# Dropout with probability 0.25\n",
    "modelOne.add(Dropout(0.25))\n",
    "\n",
    "# FC layer with 10 units and Softmax\n",
    "modelOne.add(Dense(nb_classes, activation='softmax'))"
   ]
  },
  {
   "cell_type": "markdown",
   "metadata": {},
   "source": [
    "Second Model will have:\n",
    "- 1 Convolutional Layer with 20 filters 5x5\n",
    "- 1 Convolutional Layer with 20 filters \n",
    "- 1 Convolutional Layer with 20 filters \n",
    "- 1 Pooling Layer\n",
    "- 1 Flatten Layer\n",
    "- 1 Dropout Layer (0.25)\n",
    "- Fully Connected layer with 100 units and ReLU activation\n",
    "- 1 Fully Connected Layer with 10 categories (Output)\n",
    "\n",
    "- Data Augmentation"
   ]
  },
  {
   "cell_type": "code",
   "execution_count": 5,
   "metadata": {},
   "outputs": [],
   "source": [
    "# Define 2nd architecture\n",
    "modelTwo = Sequential()\n",
    "\n",
    "# Add the Convolution Layer with 5x5 Kernel and 20 filters\n",
    "modelTwo.add(Conv2D(20, \n",
    "                 kernel_size=(5,5),\n",
    "                 activation='relu',\n",
    "                 input_shape=(32,32,3)))\n",
    "\n",
    "modelTwo.add(Conv2D(20, \n",
    "                 kernel_size=(3,3),\n",
    "                 activation='relu'))\n",
    "\n",
    "modelTwo.add(Conv2D(10, \n",
    "                 kernel_size=(2,2),\n",
    "                 activation='relu'))\n",
    "\n",
    "# Add pooling layer with kernel 2x2\n",
    "modelTwo.add(MaxPooling2D(pool_size=(2, 2)))\n",
    "\n",
    "# Flatten\n",
    "modelTwo.add(Flatten())\n",
    "\n",
    "# Dropout with probability 0.25\n",
    "modelTwo.add(Dropout(0.25))\n",
    "\n",
    "# Fully Connected layer with 100 units and ReLU activation\n",
    "modelTwo.add(Dense(100, activation='relu'))\n",
    "\n",
    "# FC layer with 10 units and Softmax\n",
    "modelTwo.add(Dense(nb_classes, activation='softmax'))"
   ]
  },
  {
   "cell_type": "markdown",
   "metadata": {},
   "source": [
    "# Treinamento - [0.25 pontos]\n",
    "***Não se esqueçam de***:\n",
    "    - Escolher otimizador e loss;\n",
    "    - Compilar o modelo;\n",
    "    - Definir número de épocas, tamanho do batch (utilizar o mesmo para ambas as redes);\n",
    "    - Passar o conjunto de validação em `validation_data`;"
   ]
  },
  {
   "cell_type": "code",
   "execution_count": 6,
   "metadata": {},
   "outputs": [],
   "source": [
    "# define early stopping callback\n",
    "earlystop = EarlyStopping(monitor='val_acc', #metric to monitor\n",
    "                          min_delta=0.0001,  #difference considered as improvement\n",
    "                          patience=5) #number of epochs with no improvement after which training will be stopped \n",
    "\n",
    "callbacks_list = [earlystop]"
   ]
  },
  {
   "cell_type": "code",
   "execution_count": 7,
   "metadata": {},
   "outputs": [
    {
     "name": "stdout",
     "output_type": "stream",
     "text": [
      "Train on 40000 samples, validate on 10000 samples\n",
      "Epoch 1/100\n",
      "40000/40000 [==============================] - 42s 1ms/step - loss: 2.2112 - acc: 0.1824 - val_loss: 2.0710 - val_acc: 0.2907\n",
      "Epoch 2/100\n",
      "40000/40000 [==============================] - 41s 1ms/step - loss: 2.0154 - acc: 0.2742 - val_loss: 1.9313 - val_acc: 0.3392\n",
      "Epoch 3/100\n",
      "40000/40000 [==============================] - 39s 963us/step - loss: 1.9114 - acc: 0.3242 - val_loss: 1.8459 - val_acc: 0.3739\n",
      "Epoch 4/100\n",
      "40000/40000 [==============================] - 37s 936us/step - loss: 1.8297 - acc: 0.3557 - val_loss: 1.7685 - val_acc: 0.3974\n",
      "Epoch 5/100\n",
      "40000/40000 [==============================] - 38s 939us/step - loss: 1.7592 - acc: 0.3792 - val_loss: 1.7022 - val_acc: 0.4131\n",
      "Epoch 6/100\n",
      "40000/40000 [==============================] - 40s 1ms/step - loss: 1.6958 - acc: 0.4033 - val_loss: 1.6549 - val_acc: 0.4249\n",
      "Epoch 7/100\n",
      "40000/40000 [==============================] - 38s 957us/step - loss: 1.6458 - acc: 0.4218 - val_loss: 1.6030 - val_acc: 0.4503\n",
      "Epoch 8/100\n",
      "40000/40000 [==============================] - 39s 980us/step - loss: 1.6029 - acc: 0.4357 - val_loss: 1.5603 - val_acc: 0.4584\n",
      "Epoch 9/100\n",
      "40000/40000 [==============================] - 36s 908us/step - loss: 1.5659 - acc: 0.4468 - val_loss: 1.5254 - val_acc: 0.4711\n",
      "Epoch 10/100\n",
      "40000/40000 [==============================] - 36s 903us/step - loss: 1.5355 - acc: 0.4586 - val_loss: 1.5141 - val_acc: 0.4706\n",
      "Epoch 11/100\n",
      "40000/40000 [==============================] - 36s 900us/step - loss: 1.5100 - acc: 0.4696 - val_loss: 1.4778 - val_acc: 0.4846\n",
      "Epoch 12/100\n",
      "40000/40000 [==============================] - 36s 902us/step - loss: 1.4869 - acc: 0.4765 - val_loss: 1.4536 - val_acc: 0.4935\n",
      "Epoch 13/100\n",
      "40000/40000 [==============================] - 36s 895us/step - loss: 1.4677 - acc: 0.4833 - val_loss: 1.4372 - val_acc: 0.4955\n",
      "Epoch 14/100\n",
      "40000/40000 [==============================] - 36s 897us/step - loss: 1.4515 - acc: 0.4909 - val_loss: 1.4254 - val_acc: 0.4998\n",
      "Epoch 15/100\n",
      "40000/40000 [==============================] - 36s 904us/step - loss: 1.4340 - acc: 0.4966 - val_loss: 1.4081 - val_acc: 0.5100\n",
      "Epoch 16/100\n",
      "40000/40000 [==============================] - 36s 910us/step - loss: 1.4211 - acc: 0.5001 - val_loss: 1.3923 - val_acc: 0.5131\n",
      "Epoch 17/100\n",
      "40000/40000 [==============================] - 36s 896us/step - loss: 1.4068 - acc: 0.5064 - val_loss: 1.3839 - val_acc: 0.5179\n",
      "Epoch 18/100\n",
      "40000/40000 [==============================] - 36s 890us/step - loss: 1.3970 - acc: 0.5082 - val_loss: 1.3680 - val_acc: 0.5243\n",
      "Epoch 19/100\n",
      "40000/40000 [==============================] - 36s 896us/step - loss: 1.3848 - acc: 0.5152 - val_loss: 1.3580 - val_acc: 0.5259\n",
      "Epoch 20/100\n",
      "40000/40000 [==============================] - 36s 897us/step - loss: 1.3776 - acc: 0.5168 - val_loss: 1.3584 - val_acc: 0.5267\n",
      "Epoch 21/100\n",
      "40000/40000 [==============================] - 36s 896us/step - loss: 1.3662 - acc: 0.5230 - val_loss: 1.3488 - val_acc: 0.5278\n",
      "Epoch 22/100\n",
      "40000/40000 [==============================] - 36s 909us/step - loss: 1.3595 - acc: 0.5250 - val_loss: 1.3896 - val_acc: 0.5188\n",
      "Epoch 23/100\n",
      "40000/40000 [==============================] - 36s 900us/step - loss: 1.3506 - acc: 0.5299 - val_loss: 1.3221 - val_acc: 0.5415\n",
      "Epoch 24/100\n",
      "40000/40000 [==============================] - 37s 930us/step - loss: 1.3380 - acc: 0.5344 - val_loss: 1.3166 - val_acc: 0.5400\n",
      "Epoch 25/100\n",
      "40000/40000 [==============================] - 37s 918us/step - loss: 1.3322 - acc: 0.5360 - val_loss: 1.3035 - val_acc: 0.5468\n",
      "Epoch 26/100\n",
      "40000/40000 [==============================] - 37s 915us/step - loss: 1.3240 - acc: 0.5360 - val_loss: 1.3040 - val_acc: 0.5508\n",
      "Epoch 27/100\n",
      "40000/40000 [==============================] - 37s 936us/step - loss: 1.3184 - acc: 0.5405 - val_loss: 1.2960 - val_acc: 0.5539\n",
      "Epoch 28/100\n",
      "40000/40000 [==============================] - 36s 910us/step - loss: 1.3139 - acc: 0.5418 - val_loss: 1.3035 - val_acc: 0.5492\n",
      "Epoch 29/100\n",
      "40000/40000 [==============================] - 35s 885us/step - loss: 1.3065 - acc: 0.5445 - val_loss: 1.2798 - val_acc: 0.5594\n",
      "Epoch 30/100\n",
      "40000/40000 [==============================] - 35s 878us/step - loss: 1.3008 - acc: 0.5456 - val_loss: 1.2767 - val_acc: 0.5645\n",
      "Epoch 31/100\n",
      "40000/40000 [==============================] - 35s 878us/step - loss: 1.2946 - acc: 0.5479 - val_loss: 1.2807 - val_acc: 0.5554\n",
      "Epoch 32/100\n",
      "40000/40000 [==============================] - 37s 915us/step - loss: 1.2888 - acc: 0.5501 - val_loss: 1.2825 - val_acc: 0.5593\n",
      "Epoch 33/100\n",
      "40000/40000 [==============================] - 36s 911us/step - loss: 1.2858 - acc: 0.5501 - val_loss: 1.2593 - val_acc: 0.5675\n",
      "Epoch 34/100\n",
      "40000/40000 [==============================] - 36s 910us/step - loss: 1.2822 - acc: 0.5519 - val_loss: 1.2507 - val_acc: 0.5694\n",
      "Epoch 35/100\n",
      "40000/40000 [==============================] - 37s 914us/step - loss: 1.2756 - acc: 0.5533 - val_loss: 1.2484 - val_acc: 0.5658\n",
      "Epoch 36/100\n",
      "40000/40000 [==============================] - 37s 928us/step - loss: 1.2697 - acc: 0.5553 - val_loss: 1.2449 - val_acc: 0.5714\n",
      "Epoch 37/100\n",
      "40000/40000 [==============================] - 36s 905us/step - loss: 1.2647 - acc: 0.5593 - val_loss: 1.2427 - val_acc: 0.5733\n",
      "Epoch 38/100\n",
      "40000/40000 [==============================] - 40s 998us/step - loss: 1.2553 - acc: 0.5624 - val_loss: 1.2304 - val_acc: 0.5747\n",
      "Epoch 39/100\n",
      "40000/40000 [==============================] - 36s 890us/step - loss: 1.2538 - acc: 0.5628 - val_loss: 1.2311 - val_acc: 0.5774\n",
      "Epoch 40/100\n",
      "40000/40000 [==============================] - 36s 901us/step - loss: 1.2522 - acc: 0.5638 - val_loss: 1.2322 - val_acc: 0.5752\n",
      "Epoch 41/100\n",
      "40000/40000 [==============================] - 39s 971us/step - loss: 1.2477 - acc: 0.5661 - val_loss: 1.2421 - val_acc: 0.5695\n",
      "Epoch 42/100\n",
      "40000/40000 [==============================] - 39s 976us/step - loss: 1.2448 - acc: 0.5671 - val_loss: 1.2167 - val_acc: 0.5817\n",
      "Epoch 43/100\n",
      "40000/40000 [==============================] - 40s 996us/step - loss: 1.2400 - acc: 0.5681 - val_loss: 1.2147 - val_acc: 0.5825\n",
      "Epoch 44/100\n",
      "40000/40000 [==============================] - 39s 968us/step - loss: 1.2395 - acc: 0.5681 - val_loss: 1.2123 - val_acc: 0.5825\n",
      "Epoch 45/100\n",
      "40000/40000 [==============================] - 39s 968us/step - loss: 1.2323 - acc: 0.5727 - val_loss: 1.2055 - val_acc: 0.5890\n",
      "Epoch 46/100\n",
      "40000/40000 [==============================] - 38s 955us/step - loss: 1.2288 - acc: 0.5726 - val_loss: 1.2219 - val_acc: 0.5807\n",
      "Epoch 47/100\n",
      "40000/40000 [==============================] - 38s 957us/step - loss: 1.2275 - acc: 0.5736 - val_loss: 1.2068 - val_acc: 0.5854\n",
      "Epoch 48/100\n",
      "40000/40000 [==============================] - 38s 957us/step - loss: 1.2256 - acc: 0.5737 - val_loss: 1.2041 - val_acc: 0.5842\n",
      "Epoch 49/100\n",
      "40000/40000 [==============================] - 39s 984us/step - loss: 1.2193 - acc: 0.5727 - val_loss: 1.2033 - val_acc: 0.5879\n",
      "Epoch 50/100\n",
      "40000/40000 [==============================] - 39s 968us/step - loss: 1.2177 - acc: 0.5755 - val_loss: 1.1997 - val_acc: 0.5894\n",
      "Epoch 51/100\n",
      "40000/40000 [==============================] - 55s 1ms/step - loss: 1.2123 - acc: 0.5780 - val_loss: 1.2034 - val_acc: 0.5912\n",
      "Epoch 52/100\n",
      "40000/40000 [==============================] - 36s 899us/step - loss: 1.2091 - acc: 0.5800 - val_loss: 1.1891 - val_acc: 0.5940\n",
      "Epoch 53/100\n",
      "40000/40000 [==============================] - 35s 886us/step - loss: 1.2076 - acc: 0.5793 - val_loss: 1.1956 - val_acc: 0.5931\n",
      "Epoch 54/100\n",
      "40000/40000 [==============================] - 38s 941us/step - loss: 1.2033 - acc: 0.5806 - val_loss: 1.1791 - val_acc: 0.5976\n",
      "Epoch 55/100\n",
      "40000/40000 [==============================] - 38s 943us/step - loss: 1.2024 - acc: 0.5819 - val_loss: 1.1735 - val_acc: 0.5985\n",
      "Epoch 56/100\n",
      "40000/40000 [==============================] - 38s 954us/step - loss: 1.1962 - acc: 0.5868 - val_loss: 1.1796 - val_acc: 0.5967\n",
      "Epoch 57/100\n",
      "40000/40000 [==============================] - 45s 1ms/step - loss: 1.1907 - acc: 0.5855 - val_loss: 1.1736 - val_acc: 0.5963\n",
      "Epoch 58/100\n",
      "40000/40000 [==============================] - 42s 1ms/step - loss: 1.1865 - acc: 0.5878 - val_loss: 1.1721 - val_acc: 0.5946\n"
     ]
    },
    {
     "name": "stdout",
     "output_type": "stream",
     "text": [
      "Epoch 59/100\n",
      "40000/40000 [==============================] - 43s 1ms/step - loss: 1.1871 - acc: 0.5865 - val_loss: 1.1573 - val_acc: 0.6074\n",
      "Epoch 60/100\n",
      "40000/40000 [==============================] - 39s 975us/step - loss: 1.1797 - acc: 0.5901 - val_loss: 1.1686 - val_acc: 0.5948\n",
      "Epoch 61/100\n",
      "40000/40000 [==============================] - 45s 1ms/step - loss: 1.1799 - acc: 0.5905 - val_loss: 1.1542 - val_acc: 0.6037\n",
      "Epoch 62/100\n",
      "40000/40000 [==============================] - 37s 927us/step - loss: 1.1750 - acc: 0.5934 - val_loss: 1.1512 - val_acc: 0.6050\n",
      "Epoch 63/100\n",
      "40000/40000 [==============================] - 37s 935us/step - loss: 1.1732 - acc: 0.5913 - val_loss: 1.1564 - val_acc: 0.6035\n",
      "Epoch 64/100\n",
      "40000/40000 [==============================] - 37s 917us/step - loss: 1.1690 - acc: 0.5927 - val_loss: 1.1532 - val_acc: 0.6090\n",
      "Epoch 65/100\n",
      "40000/40000 [==============================] - 37s 916us/step - loss: 1.1695 - acc: 0.5943 - val_loss: 1.1476 - val_acc: 0.6136\n",
      "Epoch 66/100\n",
      "40000/40000 [==============================] - 39s 967us/step - loss: 1.1642 - acc: 0.5969 - val_loss: 1.1406 - val_acc: 0.6062\n",
      "Epoch 67/100\n",
      "40000/40000 [==============================] - 38s 958us/step - loss: 1.1590 - acc: 0.5987 - val_loss: 1.1348 - val_acc: 0.6146\n",
      "Epoch 68/100\n",
      "40000/40000 [==============================] - 42s 1ms/step - loss: 1.1566 - acc: 0.5970 - val_loss: 1.1651 - val_acc: 0.6085\n",
      "Epoch 69/100\n",
      "40000/40000 [==============================] - 44s 1ms/step - loss: 1.1534 - acc: 0.5982 - val_loss: 1.1390 - val_acc: 0.6106\n",
      "Epoch 70/100\n",
      "40000/40000 [==============================] - 38s 941us/step - loss: 1.1522 - acc: 0.6018 - val_loss: 1.1304 - val_acc: 0.6164\n",
      "Epoch 71/100\n",
      "40000/40000 [==============================] - 37s 915us/step - loss: 1.1506 - acc: 0.6005 - val_loss: 1.1295 - val_acc: 0.6198\n",
      "Epoch 72/100\n",
      "40000/40000 [==============================] - 36s 908us/step - loss: 1.1431 - acc: 0.6046 - val_loss: 1.1360 - val_acc: 0.6118\n",
      "Epoch 73/100\n",
      "40000/40000 [==============================] - 37s 926us/step - loss: 1.1439 - acc: 0.6029 - val_loss: 1.1293 - val_acc: 0.6162\n",
      "Epoch 74/100\n",
      "40000/40000 [==============================] - 37s 916us/step - loss: 1.1423 - acc: 0.6036 - val_loss: 1.1194 - val_acc: 0.6207\n",
      "Epoch 75/100\n",
      "40000/40000 [==============================] - 36s 912us/step - loss: 1.1347 - acc: 0.6078 - val_loss: 1.1236 - val_acc: 0.6202\n",
      "Epoch 76/100\n",
      "40000/40000 [==============================] - 36s 894us/step - loss: 1.1326 - acc: 0.6075 - val_loss: 1.1248 - val_acc: 0.6179\n",
      "Epoch 77/100\n",
      "40000/40000 [==============================] - 37s 922us/step - loss: 1.1326 - acc: 0.6110 - val_loss: 1.1235 - val_acc: 0.6126\n",
      "Epoch 78/100\n",
      "40000/40000 [==============================] - 37s 915us/step - loss: 1.1312 - acc: 0.6082 - val_loss: 1.1204 - val_acc: 0.6197\n",
      "Epoch 79/100\n",
      "40000/40000 [==============================] - 37s 914us/step - loss: 1.1292 - acc: 0.6091 - val_loss: 1.1211 - val_acc: 0.6192\n"
     ]
    }
   ],
   "source": [
    "#Compile first model\n",
    "sgd = optimizers.SGD(lr=0.01) #lr = learning rate\n",
    "modelOne.compile(loss='categorical_crossentropy', optimizer=sgd, metrics=['accuracy'])\n",
    "\n",
    "#Train first CNN\n",
    "modelOneHistory = modelOne.fit(X_train, Y_train,\n",
    "          batch_size=128, epochs=nb_epochs, verbose=1,\n",
    "          class_weight = class_weights,\n",
    "          validation_data=(X_val, Y_val),\n",
    "          callbacks=callbacks_list)"
   ]
  },
  {
   "cell_type": "code",
   "execution_count": 8,
   "metadata": {},
   "outputs": [],
   "source": [
    "trainDataGen = ImageDataGenerator(horizontal_flip=True, \n",
    "                                  zoom_range=0.01, \n",
    "                                  width_shift_range=0.01, \n",
    "                                  height_shift_range=0.01)"
   ]
  },
  {
   "cell_type": "code",
   "execution_count": 9,
   "metadata": {},
   "outputs": [
    {
     "name": "stdout",
     "output_type": "stream",
     "text": [
      "Epoch 1/100\n",
      "313/312 [==============================] - 94s 300ms/step - loss: 1.7360 - acc: 0.3708 - val_loss: 1.5015 - val_acc: 0.4547\n",
      "Epoch 2/100\n",
      "313/312 [==============================] - 88s 282ms/step - loss: 1.4713 - acc: 0.4702 - val_loss: 1.4057 - val_acc: 0.4935\n",
      "Epoch 3/100\n",
      "313/312 [==============================] - 88s 280ms/step - loss: 1.3957 - acc: 0.4993 - val_loss: 1.3266 - val_acc: 0.5200\n",
      "Epoch 4/100\n",
      "313/312 [==============================] - 88s 282ms/step - loss: 1.3374 - acc: 0.5210 - val_loss: 1.2755 - val_acc: 0.5459\n",
      "Epoch 5/100\n",
      "313/312 [==============================] - 88s 281ms/step - loss: 1.2752 - acc: 0.5465 - val_loss: 1.2251 - val_acc: 0.5637\n",
      "Epoch 6/100\n",
      "313/312 [==============================] - 88s 281ms/step - loss: 1.2169 - acc: 0.5673 - val_loss: 1.2421 - val_acc: 0.5592\n",
      "Epoch 7/100\n",
      "313/312 [==============================] - 88s 281ms/step - loss: 1.1848 - acc: 0.5794 - val_loss: 1.1927 - val_acc: 0.5741\n",
      "Epoch 8/100\n",
      "313/312 [==============================] - 87s 280ms/step - loss: 1.1480 - acc: 0.5925 - val_loss: 1.1264 - val_acc: 0.5993\n",
      "Epoch 9/100\n",
      "313/312 [==============================] - 88s 281ms/step - loss: 1.1075 - acc: 0.6078 - val_loss: 1.0996 - val_acc: 0.6112\n",
      "Epoch 10/100\n",
      "313/312 [==============================] - 88s 280ms/step - loss: 1.0775 - acc: 0.6178 - val_loss: 1.1189 - val_acc: 0.6024\n",
      "Epoch 11/100\n",
      "313/312 [==============================] - 88s 281ms/step - loss: 1.0517 - acc: 0.6288 - val_loss: 1.0744 - val_acc: 0.6186\n",
      "Epoch 12/100\n",
      "313/312 [==============================] - 88s 280ms/step - loss: 1.0231 - acc: 0.6371 - val_loss: 1.0441 - val_acc: 0.6374\n",
      "Epoch 13/100\n",
      "313/312 [==============================] - 87s 279ms/step - loss: 1.0000 - acc: 0.6469 - val_loss: 1.0716 - val_acc: 0.6282\n",
      "Epoch 14/100\n",
      "313/312 [==============================] - 88s 281ms/step - loss: 0.9805 - acc: 0.6565 - val_loss: 1.0237 - val_acc: 0.6417\n",
      "Epoch 15/100\n",
      "313/312 [==============================] - 88s 280ms/step - loss: 0.9628 - acc: 0.6620 - val_loss: 1.1068 - val_acc: 0.6156\n",
      "Epoch 16/100\n",
      "313/312 [==============================] - 88s 281ms/step - loss: 0.9480 - acc: 0.6676 - val_loss: 1.0268 - val_acc: 0.6479\n",
      "Epoch 17/100\n",
      "313/312 [==============================] - 88s 281ms/step - loss: 0.9374 - acc: 0.6727 - val_loss: 1.0073 - val_acc: 0.6515\n",
      "Epoch 18/100\n",
      "313/312 [==============================] - 88s 281ms/step - loss: 0.9166 - acc: 0.6780 - val_loss: 1.0050 - val_acc: 0.6484\n",
      "Epoch 19/100\n",
      "313/312 [==============================] - 88s 280ms/step - loss: 0.9082 - acc: 0.6800 - val_loss: 1.0051 - val_acc: 0.6543\n",
      "Epoch 20/100\n",
      "313/312 [==============================] - 88s 280ms/step - loss: 0.8852 - acc: 0.6885 - val_loss: 0.9972 - val_acc: 0.6543\n",
      "Epoch 21/100\n",
      "313/312 [==============================] - 88s 280ms/step - loss: 0.8731 - acc: 0.6923 - val_loss: 0.9905 - val_acc: 0.6546\n",
      "Epoch 22/100\n",
      "313/312 [==============================] - 88s 280ms/step - loss: 0.8628 - acc: 0.6978 - val_loss: 0.9978 - val_acc: 0.6571\n",
      "Epoch 23/100\n",
      "313/312 [==============================] - 88s 280ms/step - loss: 0.8524 - acc: 0.7013 - val_loss: 1.0026 - val_acc: 0.6544\n",
      "Epoch 24/100\n",
      "313/312 [==============================] - 88s 282ms/step - loss: 0.8432 - acc: 0.7007 - val_loss: 1.0221 - val_acc: 0.6502\n",
      "Epoch 25/100\n",
      "313/312 [==============================] - 88s 281ms/step - loss: 0.8396 - acc: 0.7059 - val_loss: 1.0197 - val_acc: 0.6537\n",
      "Epoch 26/100\n",
      "313/312 [==============================] - 87s 279ms/step - loss: 0.8212 - acc: 0.7102 - val_loss: 0.9839 - val_acc: 0.6641\n",
      "Epoch 27/100\n",
      "313/312 [==============================] - 88s 283ms/step - loss: 0.8204 - acc: 0.7122 - val_loss: 0.9972 - val_acc: 0.6626\n",
      "Epoch 28/100\n",
      "313/312 [==============================] - 88s 281ms/step - loss: 0.8101 - acc: 0.7143 - val_loss: 0.9935 - val_acc: 0.6612\n",
      "Epoch 29/100\n",
      "313/312 [==============================] - 88s 282ms/step - loss: 0.8014 - acc: 0.7159 - val_loss: 0.9853 - val_acc: 0.6665\n",
      "Epoch 30/100\n",
      "313/312 [==============================] - 88s 281ms/step - loss: 0.7944 - acc: 0.7200 - val_loss: 0.9745 - val_acc: 0.6662\n",
      "Epoch 31/100\n",
      "313/312 [==============================] - 88s 281ms/step - loss: 0.7829 - acc: 0.7225 - val_loss: 0.9731 - val_acc: 0.6714\n",
      "Epoch 32/100\n",
      "313/312 [==============================] - 89s 283ms/step - loss: 0.7809 - acc: 0.7216 - val_loss: 0.9876 - val_acc: 0.6609\n",
      "Epoch 33/100\n",
      "313/312 [==============================] - 88s 281ms/step - loss: 0.7730 - acc: 0.7282 - val_loss: 0.9754 - val_acc: 0.6714\n",
      "Epoch 34/100\n",
      "313/312 [==============================] - 87s 279ms/step - loss: 0.7640 - acc: 0.7297 - val_loss: 0.9680 - val_acc: 0.6708\n",
      "Epoch 35/100\n",
      "313/312 [==============================] - 87s 278ms/step - loss: 0.7642 - acc: 0.7314 - val_loss: 0.9795 - val_acc: 0.6685\n",
      "Epoch 36/100\n",
      "313/312 [==============================] - 87s 277ms/step - loss: 0.7532 - acc: 0.7343 - val_loss: 0.9801 - val_acc: 0.6677\n"
     ]
    }
   ],
   "source": [
    "#Compile second model\n",
    "adam_optimizer = optimizers.Adam()\n",
    "modelTwo.compile(loss='categorical_crossentropy', optimizer=adam_optimizer, metrics=['accuracy'])\n",
    "#Train second CNN\n",
    "# fits the model on batches with real-time data augmentation:\n",
    "modelTwoHistory = modelTwo.fit_generator(trainDataGen.flow(X_train, Y_train, batch_size=128), \n",
    "                          steps_per_epoch=len(X_train) / 128, epochs=nb_epochs,\n",
    "                          validation_data=(X_val, Y_val),\n",
    "                          callbacks=callbacks_list)"
   ]
  },
  {
   "cell_type": "markdown",
   "metadata": {},
   "source": [
    "# Resultados no conjunto de teste [0.25 pontos]\n",
    "***Não se esqueçam de***:\n",
    "    - Classificar as imagens do conjunto de teste utilizando cada rede;\n",
    "    - Computar acurácia para cada rede;\n",
    "    - Comparar ambas as acurácias;\n",
    "    - Plotar loss pelo número de épocas no conjunto de treinamento e validação de cada rede. "
   ]
  },
  {
   "cell_type": "code",
   "execution_count": 14,
   "metadata": {},
   "outputs": [
    {
     "name": "stdout",
     "output_type": "stream",
     "text": [
      "10000/10000 [==============================] - 4s 437us/step\n",
      "[Without DA]Test loss: 1.1175725025177001\n",
      "[Without DA]Test accuracy (NORMALIZED): 0.6187\n",
      "\n",
      "\n",
      "10000/10000 [==============================] - 11s 1ms/step\n",
      "[Without DA]Test loss: 1.0350322471618651\n",
      "[Without DA]Test accuracy (NORMALIZED): 0.6669\n"
     ]
    },
    {
     "data": {
      "image/png": "[encoded data removed]",
      "text/plain": [
       "<Figure size 432x288 with 1 Axes>"
      ]
     },
     "metadata": {
      "needs_background": "light"
     },
     "output_type": "display_data"
    },
    {
     "data": {
      "image/png": "[encoded data removed]",
      "text/plain": [
       "<Figure size 432x288 with 1 Axes>"
      ]
     },
     "metadata": {
      "needs_background": "light"
     },
     "output_type": "display_data"
    }
   ],
   "source": [
    "# Classify test set\n",
    "scoreModelOne = modelOne.evaluate(X_test,Y_test,verbose=1)\n",
    "print('[Without DA]Test loss:', scoreModelOne[0])\n",
    "print('[Without DA]Test accuracy (NORMALIZED):', scoreModelOne[1])\n",
    "\n",
    "print(\"\\n\")\n",
    "\n",
    "scoreModelTwo = modelTwo.evaluate(X_test,Y_test,verbose=1)\n",
    "print('[Without DA]Test loss:', scoreModelTwo[0])\n",
    "print('[Without DA]Test accuracy (NORMALIZED):', scoreModelTwo[1])\n",
    "\n",
    "import matplotlib.pyplot as plt\n",
    "\n",
    "plt.plot(modelOneHistory.history['loss'])\n",
    "plt.plot(modelOneHistory.history['val_loss'])\n",
    "plt.plot(modelTwoHistory.history['loss'])\n",
    "plt.plot(modelTwoHistory.history['val_loss'])\n",
    "plt.title('model loss')\n",
    "plt.ylabel('loss')\n",
    "plt.xlabel('epoch')\n",
    "plt.legend(['Model 1 train', 'Model 1 test', 'Model 2 train', 'Model 2 test'], loc='upper left')\n",
    "plt.show()\n",
    "\n",
    "\n",
    "# Plotar a Acurácia\n",
    "plt.plot(modelOneHistory.history['acc'])\n",
    "plt.plot(modelOneHistory.history['val_acc'])\n",
    "plt.plot(modelTwoHistory.history['acc'])\n",
    "plt.plot(modelTwoHistory.history['val_acc'])\n",
    "plt.title('model accuracy')\n",
    "plt.ylabel('acc')\n",
    "plt.xlabel('epoch')\n",
    "plt.legend(['Model 1 train', 'Model 1 test', 'Model 2 train', 'Model 2 test'], loc='upper left')\n",
    "plt.show()\n"
   ]
  },
  {
   "cell_type": "code",
   "execution_count": 11,
   "metadata": {},
   "outputs": [],
   "source": [
    "# Save the models\n",
    "modelOne.save('modelone.h5')\n",
    "modelTwo.save('modeltwo.h5')"
   ]
  },
  {
   "cell_type": "markdown",
   "metadata": {},
   "source": [
    "# Conclusões [0.2 pontos]\n",
    "Escrevam um parágrafo com as conclusões que vocês tiraram na tarefa. Comentem as diferenças entre as duas arquiteturas e em seus treinamentos, apontando a motivação pelas decisões tomadas. Se o resultado ficou melhor/pior do que o que você esperava, o que você acha que pode ter acontecido?"
   ]
  },
  {
   "cell_type": "markdown",
   "metadata": {},
   "source": [
    "\n",
    "\n",
    "Com a execução dos modelos, pudemos comparar o impacto de mais hidden layers, bem como de diferentes otimizadores no aprendizado. Através de testes realizados durante o desenvolvimento, percebemos que o impacto da pequena diferença entre as hidden layers foi muito baixo ao resultado final. Bem como a utilização de Data Augmentation, que não se mostrou muito eficiente. A hipótese se deu com base em equilibrar a quantidade de um, com relação aos demais (one vs all), mas como já possuem uma quantidade equilibrada, não surtiu o efeito desejado. Ao contrário da utilização de diferentes otimizadores. O Adam, se mostrou melhor que o SGD, e testes com o Adadelta se mostraram muito próximos aos resultados do Adam. A diferença da Acurácia não se mostrou tão grande, 61% vs 66%, no entanto, o custo se mostrou bem menor e também a quantidade de épocas necessárias para convergir, como pôde ser visto com a utilização do EarlyStopping, e que é facilmente visualizado nos gráficos."
   ]
  },
  {
   "cell_type": "code",
   "execution_count": null,
   "metadata": {},
   "outputs": [],
   "source": []
  }
 ],
 "metadata": {
  "kernelspec": {
   "display_name": "Python 3",
   "language": "python",
   "name": "python3"
  },
  "language_info": {
   "codemirror_mode": {
    "name": "ipython",
    "version": 3
   },
   "file_extension": ".py",
   "mimetype": "text/x-python",
   "name": "python",
   "nbconvert_exporter": "python",
   "pygments_lexer": "ipython3",
   "version": "3.6.6"
  }
 },
 "nbformat": 4,
 "nbformat_minor": 1
}
