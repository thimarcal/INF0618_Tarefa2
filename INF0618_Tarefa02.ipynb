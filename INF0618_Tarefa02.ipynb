{
 "cells": [
  {
   "cell_type": "markdown",
   "metadata": {},
   "source": [
    "# Tarefa 02\n",
    "Nesta tarefa vocês irão projetar duas arquiteturas de CNN utilizando os conceitos, camadas e técnicas vistas no curso. As redes serão treinadas no dataset CIFAR-10 e depois comparadas. As tarefas são:\n",
    "\n",
    "**1) Definir as arquiteturas; ----> 0.3 pontos** \n",
    "\n",
    "- Quantas [camadas](https://keras.io/layers/core/) ela terá?\n",
    "- Quais as operações utilizadas (convoluções, pooling, fully-connected)?\n",
    "- Quais serão os parâmetros de cada camada (número e tamanho dos filtros convolucionais, stride, tamanho do pooling, funções de ativação)?\n",
    "- Que tipo de [inicialização](https://keras.io/initializers/) de pesos você utilizará?\n",
    "- Haverá dropout? Qual a taxa de dropout? \n",
    "- Haverá [regularização](https://keras.io/regularizers/)? Qual a taxa do regularizador?\n",
    "\n",
    "**2) Definir como será o treino; ----> 0.25 pontos**\n",
    "- Número de épocas e tamanho do batch (deixe igual p/ as duas redes);\n",
    "- [Otimizador](https://keras.io/optimizers/);\n",
    "- [Função de custo](https://keras.io/losses/);\n",
    "\n",
    "**3) Classificar o conjunto de teste e comparar os resultados; ----> 0.25 pontos**\n",
    "- Classificar imagens de teste;\n",
    "- Comparar acurácias;\n",
    "- Plotar loss pelo número de épocas no conjunto de treinamento e validação de cada rede. \n",
    "    \n",
    "**4) Escrever um parágrafo com as suas conclusões; ----> 0.2 pontos**\n",
    "\n",
    "-----\n",
    "\n",
    "## CIFAR-10\n",
    "Este conjunto de dados é composto de 60000 imagens coloridas de dimensões 32x32, divididas em 10 classes (com 6000 imagens por classe), sendo 50000 para treinamento e 10000 para teste. As classes do CIFAR-10 são **aviões, automóveis, pássaros, gatos, alces, cachorros, sapos, cavalos, navios, caminhões.**\n",
    "\n",
    "O código abaixo carrega e transforma os dados de entrada para ficarem prontos para serem treinados/classificados pela sua rede. Os conjuntos de treino, validação e teste estão balanceados, portanto a acurácia já estará normalizada nos métodos do Keras.  "
   ]
  },
  {
   "cell_type": "code",
   "execution_count": 8,
   "metadata": {},
   "outputs": [],
   "source": [
    "#Imports\n",
    "import os\n",
    "import numpy as np\n",
    "from random import seed\n",
    "seed(42)\n",
    "\n",
    "import matplotlib.pyplot as plt\n",
    "plt.rcParams['figure.figsize'] = (15,15) # Make the figures a bit bigger\n",
    "\n",
    "from keras.datasets import cifar10\n",
    "from keras.utils import np_utils\n",
    "from sklearn.cross_validation import StratifiedShuffleSplit\n",
    "\n",
    "\n",
    "#Load data\n",
    "(trainVal_data, trainVal_label), (X_test, y_test) = cifar10.load_data()\n",
    "\n",
    "#Split trainVal data into train and val sets (already balanced)\n",
    "splitIdx = StratifiedShuffleSplit(trainVal_label, 1, test_size=10000, random_state=0)\n",
    "for train_index, val_index in splitIdx:\n",
    "    X_train, X_val = trainVal_data[train_index], trainVal_data[val_index]\n",
    "    y_train, y_val = trainVal_label[train_index], trainVal_label[val_index]\n",
    "    \n",
    "    \n",
    "#Transform data\n",
    "X_train = X_train.reshape(X_train.shape[0], 32, 32, 3)\n",
    "X_val = X_val.reshape(X_val.shape[0], 32, 32, 3)\n",
    "X_test = X_test.reshape(X_test.shape[0], 32, 32, 3)\n",
    "\n",
    "X_train = X_train.astype('float32')\n",
    "X_val = X_val.astype('float32')\n",
    "X_test = X_test.astype('float32')\n",
    "\n",
    "X_train /= 255\n",
    "X_val /= 255\n",
    "X_test /= 255\n",
    "\n",
    "print(\"Training matrix shape\", X_train.shape)\n",
    "print(\"Validation matrix shape\", X_val.shape)\n",
    "print(\"Testing matrix shape\", X_test.shape)\n",
    "\n",
    "Y_train = np_utils.to_categorical(y_train, 10)\n",
    "Y_val = np_utils.to_categorical(y_val, 10)\n",
    "Y_test = np_utils.to_categorical(y_test, 10)"
   ]
  },
  {
   "cell_type": "markdown",
   "metadata": {},
   "source": [
    "--------\n",
    "--------\n",
    "--------\n",
    "**A tarefa de vocês começa aqui!!!**"
   ]
  },
  {
   "cell_type": "markdown",
   "metadata": {},
   "source": [
    "# Definir as duas arquiteturas - [0.3 pontos]\n",
    "***Não se esqueçam de***:\n",
    "    - Importar as camadas utilizadas e o tipo do modelo (Sequential);\n",
    "    - Passar o input_shape na primeira camada da rede;\n",
    "    - Utilizar ativação `softmax` na última camada densa da rede;"
   ]
  },
  {
   "cell_type": "code",
   "execution_count": null,
   "metadata": {},
   "outputs": [],
   "source": [
    "#Imports\n",
    "from keras.models import Sequential\n",
    "#from keras.layers.core import Dense, Dropout, Flatten\n",
    "#from keras.layers import Conv2D, MaxPooling2D\n",
    "#from keras import optimizers # other stuff needed ... "
   ]
  },
  {
   "cell_type": "code",
   "execution_count": 2,
   "metadata": {},
   "outputs": [],
   "source": [
    "# Define 1st architecture\n",
    "modelOne = Sequential()\n",
    "#modelOne.add(...)"
   ]
  },
  {
   "cell_type": "code",
   "execution_count": 2,
   "metadata": {},
   "outputs": [],
   "source": [
    "# Define 2nd architecture\n",
    "modelTwo = Sequential()\n",
    "#modelTwo.add(...)"
   ]
  },
  {
   "cell_type": "markdown",
   "metadata": {},
   "source": [
    "# Treinamento - [0.25 pontos]\n",
    "***Não se esqueçam de***:\n",
    "    - Escolher otimizador e loss;\n",
    "    - Compilar o modelo;\n",
    "    - Definir número de épocas, tamanho do batch (utilizar o mesmo para ambas as redes);\n",
    "    - Passar o conjunto de validação em `validation_data`;"
   ]
  },
  {
   "cell_type": "code",
   "execution_count": null,
   "metadata": {},
   "outputs": [],
   "source": [
    "#Compile first model\n",
    "\n",
    "#Train first CNN\n"
   ]
  },
  {
   "cell_type": "code",
   "execution_count": null,
   "metadata": {},
   "outputs": [],
   "source": [
    "#Compile second model\n",
    "\n",
    "#Train second CNN\n"
   ]
  },
  {
   "cell_type": "markdown",
   "metadata": {},
   "source": [
    "# Resultados no conjunto de teste [0.25 pontos]\n",
    "***Não se esqueçam de***:\n",
    "    - Classificar as imagens do conjunto de teste utilizando cada rede;\n",
    "    - Computar acurácia para cada rede;\n",
    "    - Comparar ambas as acurácias;\n",
    "    - Plotar loss pelo número de épocas no conjunto de treinamento e validação de cada rede. "
   ]
  },
  {
   "cell_type": "code",
   "execution_count": null,
   "metadata": {},
   "outputs": [],
   "source": [
    "# Classify test set"
   ]
  },
  {
   "cell_type": "markdown",
   "metadata": {},
   "source": [
    "# Conclusões [0.2 pontos]\n",
    "Escrevam um parágrafo com as conclusões que vocês tiraram na tarefa. Comentem as diferenças entre as duas arquiteturas e em seus treinamentos, apontando a motivação pelas decisões tomadas. Se o resultado ficou melhor/pior do que o que você esperava, o que você acha que pode ter acontecido?"
   ]
  },
  {
   "cell_type": "code",
   "execution_count": 10,
   "metadata": {},
   "outputs": [],
   "source": [
    "# Write your paragraph here!"
   ]
  }
 ],
 "metadata": {
  "kernelspec": {
   "display_name": "Python 3",
   "language": "python",
   "name": "python3"
  },
  "language_info": {
   "codemirror_mode": {
    "name": "ipython",
    "version": 3
   },
   "file_extension": ".py",
   "mimetype": "text/x-python",
   "name": "python",
   "nbconvert_exporter": "python",
   "pygments_lexer": "ipython3",
   "version": "3.5.2"
  }
 },
 "nbformat": 4,
 "nbformat_minor": 1
}
