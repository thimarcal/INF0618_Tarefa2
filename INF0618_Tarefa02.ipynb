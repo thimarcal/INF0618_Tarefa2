{
 "cells": [
  {
   "cell_type": "markdown",
   "metadata": {},
   "source": [
    "# Tarefa 02\n",
    "Nesta tarefa vocês irão projetar duas arquiteturas de CNN utilizando os conceitos, camadas e técnicas vistas no curso. As redes serão treinadas no dataset CIFAR-10 e depois comparadas. As tarefas são:\n",
    "\n",
    "**1) Definir as arquiteturas; ----> 0.3 pontos** \n",
    "\n",
    "- Quantas [camadas](https://keras.io/layers/core/) ela terá?\n",
    "- Quais as operações utilizadas (convoluções, pooling, fully-connected)?\n",
    "- Quais serão os parâmetros de cada camada (número e tamanho dos filtros convolucionais, stride, tamanho do pooling, funções de ativação)?\n",
    "- Que tipo de [inicialização](https://keras.io/initializers/) de pesos você utilizará?\n",
    "- Haverá dropout? Qual a taxa de dropout? \n",
    "- Haverá [regularização](https://keras.io/regularizers/)? Qual a taxa do regularizador?\n",
    "\n",
    "**2) Definir como será o treino; ----> 0.25 pontos**\n",
    "- Número de épocas e tamanho do batch (deixe igual p/ as duas redes);\n",
    "- [Otimizador](https://keras.io/optimizers/);\n",
    "- [Função de custo](https://keras.io/losses/);\n",
    "\n",
    "**3) Classificar o conjunto de teste e comparar os resultados; ----> 0.25 pontos**\n",
    "- Classificar imagens de teste;\n",
    "- Comparar acurácias;\n",
    "- Plotar loss pelo número de épocas no conjunto de treinamento e validação de cada rede. \n",
    "    \n",
    "**4) Escrever um parágrafo com as suas conclusões; ----> 0.2 pontos**\n",
    "\n",
    "-----\n",
    "\n",
    "## CIFAR-10\n",
    "Este conjunto de dados é composto de 60000 imagens coloridas de dimensões 32x32, divididas em 10 classes (com 6000 imagens por classe), sendo 50000 para treinamento e 10000 para teste. As classes do CIFAR-10 são **aviões, automóveis, pássaros, gatos, alces, cachorros, sapos, cavalos, navios, caminhões.**\n",
    "\n",
    "O código abaixo carrega e transforma os dados de entrada para ficarem prontos para serem treinados/classificados pela sua rede. Os conjuntos de treino, validação e teste estão balanceados, portanto a acurácia já estará normalizada nos métodos do Keras.  "
   ]
  },
  {
   "cell_type": "code",
   "execution_count": 1,
   "metadata": {},
   "outputs": [
    {
     "name": "stderr",
     "output_type": "stream",
     "text": [
      "Using TensorFlow backend.\n"
     ]
    },
    {
     "name": "stdout",
     "output_type": "stream",
     "text": [
      "Training matrix shape (40000, 32, 32, 3)\n",
      "Validation matrix shape (10000, 32, 32, 3)\n",
      "Testing matrix shape (10000, 32, 32, 3)\n"
     ]
    }
   ],
   "source": [
    "#Imports\n",
    "import os\n",
    "import numpy as np\n",
    "from random import seed\n",
    "seed(42)\n",
    "\n",
    "import matplotlib.pyplot as plt\n",
    "plt.rcParams['figure.figsize'] = (15,15) # Make the figures a bit bigger\n",
    "\n",
    "from keras.datasets import cifar10\n",
    "from keras.utils import np_utils\n",
    "#from sklearn.cross_validation import StratifiedShuffleSplit\n",
    "from sklearn.model_selection import StratifiedShuffleSplit\n",
    "\n",
    "\n",
    "#Load data\n",
    "(trainVal_data, trainVal_label), (X_test, y_test) = cifar10.load_data()\n",
    "\n",
    "# Caso alguem tenha problemas com o StratifiedShuffleSplit, tente descomentar essa versao\n",
    "#Split trainVal data into train and val sets (already balanced)\n",
    "# splitIdx = StratifiedShuffleSplit(trainVal_label, 1, test_size=10000, random_state=0)\n",
    "# for train_index, val_index in splitIdx:\n",
    "#     X_train, X_val = trainVal_data[train_index], trainVal_data[val_index]\n",
    "#     y_train, y_val = trainVal_label[train_index], trainVal_label[val_index]\n",
    "    \n",
    "\n",
    "splitIdx = StratifiedShuffleSplit(1, test_size=10000, random_state=0)\n",
    "for train_index, val_index in splitIdx.split(trainVal_data, trainVal_label):\n",
    "    X_train, X_val = trainVal_data[train_index], trainVal_data[val_index]\n",
    "    y_train, y_val = trainVal_label[train_index], trainVal_label[val_index]\n",
    "\n",
    "    \n",
    "#Transform data\n",
    "X_train = X_train.reshape(X_train.shape[0], 32, 32, 3)\n",
    "X_val = X_val.reshape(X_val.shape[0], 32, 32, 3)\n",
    "X_test = X_test.reshape(X_test.shape[0], 32, 32, 3)\n",
    "\n",
    "X_train = X_train.astype('float32')\n",
    "X_val = X_val.astype('float32')\n",
    "X_test = X_test.astype('float32')\n",
    "\n",
    "X_train /= 255\n",
    "X_val /= 255\n",
    "X_test /= 255\n",
    "\n",
    "print(\"Training matrix shape\", X_train.shape)\n",
    "print(\"Validation matrix shape\", X_val.shape)\n",
    "print(\"Testing matrix shape\", X_test.shape)\n",
    "\n",
    "Y_train = np_utils.to_categorical(y_train, 10)\n",
    "Y_val = np_utils.to_categorical(y_val, 10)\n",
    "Y_test = np_utils.to_categorical(y_test, 10)"
   ]
  },
  {
   "cell_type": "code",
   "execution_count": 2,
   "metadata": {},
   "outputs": [
    {
     "name": "stdout",
     "output_type": "stream",
     "text": [
      "Train --->  {0: 4000, 1: 4000, 2: 4000, 3: 4000, 4: 4000, 5: 4000, 6: 4000, 7: 4000, 8: 4000, 9: 4000} \n",
      "\n"
     ]
    }
   ],
   "source": [
    "unique, counts = np.unique(y_train, return_counts=True)\n",
    "print(\"Train ---> \", dict(zip(unique, counts)), \"\\n\")\n",
    "\n",
    "from sklearn.utils.class_weight import compute_class_weight\n",
    "class_weights = compute_class_weight('balanced', np.unique(y_train), y_train.flatten())\n",
    "train_class_weights = dict(enumerate(class_weights))"
   ]
  },
  {
   "cell_type": "markdown",
   "metadata": {},
   "source": [
    "--------\n",
    "--------\n",
    "--------\n",
    "**A tarefa de vocês começa aqui!!!**"
   ]
  },
  {
   "cell_type": "markdown",
   "metadata": {},
   "source": [
    "# Definir as duas arquiteturas - [0.3 pontos]\n",
    "***Não se esqueçam de***:\n",
    "    - Importar as camadas utilizadas e o tipo do modelo (Sequential);\n",
    "    - Passar o input_shape na primeira camada da rede;\n",
    "    - Utilizar ativação `softmax` na última camada densa da rede;"
   ]
  },
  {
   "cell_type": "code",
   "execution_count": 3,
   "metadata": {},
   "outputs": [],
   "source": [
    "#Imports\n",
    "from keras.models import Sequential\n",
    "from keras.layers.core import Dense, Dropout, Flatten\n",
    "from keras.layers import Conv2D, MaxPooling2D\n",
    "from keras import optimizers # other stuff needed ... \n",
    "from keras.callbacks import EarlyStopping\n",
    "from keras.preprocessing.image import ImageDataGenerator\n",
    "\n",
    "nb_classes = 10\n",
    "nb_epochs = 10\n"
   ]
  },
  {
   "cell_type": "markdown",
   "metadata": {},
   "source": [
    "For model 1, we'll define a simple model with:\n",
    "- 1 Convolutional Layer with 20 filters 5x5\n",
    "- 1 Pooling Layer\n",
    "- 1 Flatten Layer\n",
    "- 1 Dropout Layer (0.25)\n",
    "- 1 Fully Connected Layer with 10 categories (Output)"
   ]
  },
  {
   "cell_type": "code",
   "execution_count": 4,
   "metadata": {},
   "outputs": [],
   "source": [
    "# Define 1st architecture\n",
    "modelOne = Sequential()\n",
    "# Add the Convolution Layer with 5x5 Kernel and 20 filters\n",
    "modelOne.add(Conv2D(20, \n",
    "                 kernel_size=(5,5),\n",
    "                 activation='relu',\n",
    "                 input_shape=(32,32,3)))\n",
    "\n",
    "# Add pooling layer with kernel 3x3\n",
    "modelOne.add(MaxPooling2D(pool_size=(3, 3)))\n",
    "\n",
    "# Flatten\n",
    "modelOne.add(Flatten())\n",
    "\n",
    "# Dropout with probability 0.25\n",
    "modelOne.add(Dropout(0.25))\n",
    "\n",
    "# FC layer with 10 units and Softmax\n",
    "modelOne.add(Dense(nb_classes, activation='softmax'))"
   ]
  },
  {
   "cell_type": "markdown",
   "metadata": {},
   "source": [
    "Second Model will have:\n",
    "- 1 Convolutional Layer with 20 filters 5x5\n",
    "- 1 Convolutional Layer with 20 filters \n",
    "- 1 Convolutional Layer with 20 filters \n",
    "- 1 Pooling Layer\n",
    "- 1 Flatten Layer\n",
    "- 1 Dropout Layer (0.25)\n",
    "- Fully Connected layer with 100 units and ReLU activation\n",
    "- 1 Fully Connected Layer with 10 categories (Output)\n",
    "\n",
    "- Data Augmentation"
   ]
  },
  {
   "cell_type": "code",
   "execution_count": 5,
   "metadata": {},
   "outputs": [],
   "source": [
    "# Define 2nd architecture\n",
    "modelTwo = Sequential()\n",
    "\n",
    "# Add the Convolution Layer with 5x5 Kernel and 20 filters\n",
    "modelTwo.add(Conv2D(20, \n",
    "                 kernel_size=(5,5),\n",
    "                 activation='relu',\n",
    "                 input_shape=(32,32,3)))\n",
    "\n",
    "modelTwo.add(Conv2D(20, \n",
    "                 kernel_size=(3,3),\n",
    "                 activation='relu'))\n",
    "\n",
    "modelTwo.add(Conv2D(10, \n",
    "                 kernel_size=(2,2),\n",
    "                 activation='relu'))\n",
    "\n",
    "# Add pooling layer with kernel 2x2\n",
    "modelTwo.add(MaxPooling2D(pool_size=(2, 2)))\n",
    "\n",
    "# Flatten\n",
    "modelTwo.add(Flatten())\n",
    "\n",
    "# Dropout with probability 0.25\n",
    "modelTwo.add(Dropout(0.25))\n",
    "\n",
    "# Fully Connected layer with 100 units and ReLU activation\n",
    "modelTwo.add(Dense(100, activation='relu'))\n",
    "\n",
    "# FC layer with 10 units and Softmax\n",
    "modelTwo.add(Dense(nb_classes, activation='softmax'))"
   ]
  },
  {
   "cell_type": "markdown",
   "metadata": {},
   "source": [
    "# Treinamento - [0.25 pontos]\n",
    "***Não se esqueçam de***:\n",
    "    - Escolher otimizador e loss;\n",
    "    - Compilar o modelo;\n",
    "    - Definir número de épocas, tamanho do batch (utilizar o mesmo para ambas as redes);\n",
    "    - Passar o conjunto de validação em `validation_data`;"
   ]
  },
  {
   "cell_type": "code",
   "execution_count": 6,
   "metadata": {},
   "outputs": [],
   "source": [
    "# define early stopping callback\n",
    "earlystop = EarlyStopping(monitor='val_acc', #metric to monitor\n",
    "                          min_delta=0.0002,  #difference considered as improvement\n",
    "                          patience=5) #number of epochs with no improvement after which training will be stopped \n",
    "\n",
    "callbacks_list = [earlystop]"
   ]
  },
  {
   "cell_type": "code",
   "execution_count": 7,
   "metadata": {},
   "outputs": [
    {
     "name": "stdout",
     "output_type": "stream",
     "text": [
      "Train on 40000 samples, validate on 10000 samples\n",
      "Epoch 1/10\n",
      "40000/40000 [==============================] - 37s 929us/step - loss: 2.2184 - acc: 0.1859 - val_loss: 2.0767 - val_acc: 0.2682\n",
      "Epoch 2/10\n",
      "40000/40000 [==============================] - 36s 904us/step - loss: 2.0041 - acc: 0.2844 - val_loss: 1.9076 - val_acc: 0.3424\n",
      "Epoch 3/10\n",
      "40000/40000 [==============================] - 36s 907us/step - loss: 1.8842 - acc: 0.3331 - val_loss: 1.8166 - val_acc: 0.3699\n",
      "Epoch 4/10\n",
      "40000/40000 [==============================] - 36s 906us/step - loss: 1.8001 - acc: 0.3641 - val_loss: 1.7516 - val_acc: 0.3892\n",
      "Epoch 5/10\n",
      "40000/40000 [==============================] - 36s 911us/step - loss: 1.7303 - acc: 0.3852 - val_loss: 1.6762 - val_acc: 0.4179\n",
      "Epoch 6/10\n",
      "40000/40000 [==============================] - 36s 902us/step - loss: 1.6716 - acc: 0.4086 - val_loss: 1.6301 - val_acc: 0.4384\n",
      "Epoch 7/10\n",
      "40000/40000 [==============================] - 36s 907us/step - loss: 1.6281 - acc: 0.4221 - val_loss: 1.5824 - val_acc: 0.4482\n",
      "Epoch 8/10\n",
      "40000/40000 [==============================] - 36s 910us/step - loss: 1.5878 - acc: 0.4370 - val_loss: 1.5518 - val_acc: 0.4596\n",
      "Epoch 9/10\n",
      "40000/40000 [==============================] - 36s 901us/step - loss: 1.5591 - acc: 0.4471 - val_loss: 1.5355 - val_acc: 0.4602\n",
      "Epoch 10/10\n",
      "40000/40000 [==============================] - 36s 906us/step - loss: 1.5295 - acc: 0.4596 - val_loss: 1.5244 - val_acc: 0.4677\n"
     ]
    }
   ],
   "source": [
    "#Compile first model\n",
    "sgd = optimizers.SGD(lr=0.01) #lr = learning rate\n",
    "modelOne.compile(loss='categorical_crossentropy', optimizer=sgd, metrics=['accuracy'])\n",
    "\n",
    "#Train first CNN\n",
    "modelOneHistory = modelOne.fit(X_train, Y_train,\n",
    "          batch_size=128, epochs=nb_epochs, verbose=1,\n",
    "          class_weight = class_weights,\n",
    "          validation_data=(X_val, Y_val),\n",
    "          callbacks=callbacks_list)"
   ]
  },
  {
   "cell_type": "code",
   "execution_count": 8,
   "metadata": {},
   "outputs": [],
   "source": [
    "trainDataGen = ImageDataGenerator(horizontal_flip=True, \n",
    "                                  zoom_range=0.01, \n",
    "                                  width_shift_range=0.01, \n",
    "                                  height_shift_range=0.01)"
   ]
  },
  {
   "cell_type": "code",
   "execution_count": 9,
   "metadata": {},
   "outputs": [
    {
     "name": "stdout",
     "output_type": "stream",
     "text": [
      "Epoch 1/10\n",
      "313/312 [==============================] - 89s 285ms/step - loss: 1.7131 - acc: 0.3766 - val_loss: 1.4664 - val_acc: 0.4661\n",
      "Epoch 2/10\n",
      "313/312 [==============================] - 89s 284ms/step - loss: 1.4475 - acc: 0.4768 - val_loss: 1.3633 - val_acc: 0.5142\n",
      "Epoch 3/10\n",
      "313/312 [==============================] - 93s 299ms/step - loss: 1.3469 - acc: 0.5183 - val_loss: 1.3408 - val_acc: 0.5250\n",
      "Epoch 4/10\n",
      "313/312 [==============================] - 95s 305ms/step - loss: 1.2775 - acc: 0.5427 - val_loss: 1.1996 - val_acc: 0.5691\n",
      "Epoch 5/10\n",
      "313/312 [==============================] - 95s 304ms/step - loss: 1.2125 - acc: 0.5702 - val_loss: 1.1773 - val_acc: 0.5819\n",
      "Epoch 6/10\n",
      "313/312 [==============================] - 88s 282ms/step - loss: 1.1605 - acc: 0.5895 - val_loss: 1.1305 - val_acc: 0.6034\n",
      "Epoch 7/10\n",
      "313/312 [==============================] - 88s 282ms/step - loss: 1.1152 - acc: 0.6043 - val_loss: 1.1209 - val_acc: 0.6097\n",
      "Epoch 8/10\n",
      "313/312 [==============================] - 88s 281ms/step - loss: 1.0826 - acc: 0.6184 - val_loss: 1.0817 - val_acc: 0.6224\n",
      "Epoch 9/10\n",
      "313/312 [==============================] - 92s 295ms/step - loss: 1.0501 - acc: 0.6302 - val_loss: 1.0418 - val_acc: 0.6392\n",
      "Epoch 10/10\n",
      "313/312 [==============================] - 89s 283ms/step - loss: 1.0228 - acc: 0.6393 - val_loss: 1.0351 - val_acc: 0.6383\n"
     ]
    }
   ],
   "source": [
    "#Compile second model\n",
    "adam_optimizer = optimizers.Adam()\n",
    "modelTwo.compile(loss='categorical_crossentropy', optimizer=adam_optimizer, metrics=['accuracy'])\n",
    "#Train second CNN\n",
    "# fits the model on batches with real-time data augmentation:\n",
    "modelTwoHistory = modelTwo.fit_generator(trainDataGen.flow(X_train, Y_train, batch_size=128), \n",
    "                          steps_per_epoch=len(X_train) / 128, epochs=nb_epochs,\n",
    "                          validation_data=(X_val, Y_val),\n",
    "                          callbacks=callbacks_list)"
   ]
  },
  {
   "cell_type": "markdown",
   "metadata": {},
   "source": [
    "# Resultados no conjunto de teste [0.25 pontos]\n",
    "***Não se esqueçam de***:\n",
    "    - Classificar as imagens do conjunto de teste utilizando cada rede;\n",
    "    - Computar acurácia para cada rede;\n",
    "    - Comparar ambas as acurácias;\n",
    "    - Plotar loss pelo número de épocas no conjunto de treinamento e validação de cada rede. "
   ]
  },
  {
   "cell_type": "code",
   "execution_count": 10,
   "metadata": {},
   "outputs": [
    {
     "name": "stdout",
     "output_type": "stream",
     "text": [
      "10000/10000 [==============================] - 4s 449us/step\n",
      "[Without DA]Test loss: 1.5117001804351806\n",
      "[Without DA]Test accuracy (NORMALIZED): 0.4646\n",
      "\n",
      "\n",
      "10000/10000 [==============================] - 11s 1ms/step\n",
      "[Without DA]Test loss: 1.0188861930847168\n",
      "[Without DA]Test accuracy (NORMALIZED): 0.6385\n"
     ]
    },
    {
     "data": {
      "image/png": "[encoded data removed]",
      "text/plain": [
       "<Figure size 432x288 with 1 Axes>"
      ]
     },
     "metadata": {
      "needs_background": "light"
     },
     "output_type": "display_data"
    }
   ],
   "source": [
    "# Classify test set\n",
    "scoreModelOne = modelOne.evaluate(X_test,Y_test,verbose=1)\n",
    "print('[Without DA]Test loss:', scoreModelOne[0])\n",
    "print('[Without DA]Test accuracy (NORMALIZED):', scoreModelOne[1])\n",
    "\n",
    "print(\"\\n\")\n",
    "\n",
    "scoreModelTwo = modelTwo.evaluate(X_test,Y_test,verbose=1)\n",
    "print('[Without DA]Test loss:', scoreModelTwo[0])\n",
    "print('[Without DA]Test accuracy (NORMALIZED):', scoreModelTwo[1])\n",
    "\n",
    "import matplotlib.pyplot as plt\n",
    "\n",
    "plt.plot(modelOneHistory.history['loss'])\n",
    "plt.plot(modelOneHistory.history['val_loss'])\n",
    "plt.plot(modelTwoHistory.history['loss'])\n",
    "plt.plot(modelTwoHistory.history['val_loss'])\n",
    "plt.title('model loss')\n",
    "plt.ylabel('loss')\n",
    "plt.xlabel('epoch')\n",
    "plt.legend(['Model 1 train', 'Model 1 test', 'Model 2 train', 'Model 2 test'], loc='upper left')\n",
    "plt.show()\n"
   ]
  },
  {
   "cell_type": "markdown",
   "metadata": {},
   "source": [
    "# Conclusões [0.2 pontos]\n",
    "Escrevam um parágrafo com as conclusões que vocês tiraram na tarefa. Comentem as diferenças entre as duas arquiteturas e em seus treinamentos, apontando a motivação pelas decisões tomadas. Se o resultado ficou melhor/pior do que o que você esperava, o que você acha que pode ter acontecido?"
   ]
  },
  {
   "cell_type": "code",
   "execution_count": 10,
   "metadata": {},
   "outputs": [],
   "source": [
    "# Write your paragraph here!"
   ]
  }
 ],
 "metadata": {
  "kernelspec": {
   "display_name": "Python 3",
   "language": "python",
   "name": "python3"
  },
  "language_info": {
   "codemirror_mode": {
    "name": "ipython",
    "version": 3
   },
   "file_extension": ".py",
   "mimetype": "text/x-python",
   "name": "python",
   "nbconvert_exporter": "python",
   "pygments_lexer": "ipython3",
   "version": "3.6.6"
  }
 },
 "nbformat": 4,
 "nbformat_minor": 1
}
